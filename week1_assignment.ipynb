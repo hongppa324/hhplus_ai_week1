{
 "cells": [
  {
   "cell_type": "code",
   "execution_count": 90,
   "id": "fbcb778a-1d7d-428e-9a1a-04bec0ae8d46",
   "metadata": {},
   "outputs": [],
   "source": [
    "import torch\n",
    "import torchvision\n",
    "import torchvision.transforms as transforms\n",
    "import numpy as np\n",
    "import matplotlib.pyplot as plt"
   ]
  },
  {
   "cell_type": "code",
   "execution_count": 80,
   "id": "192c8685-7c1a-4fb6-9391-db68bf3d50c3",
   "metadata": {},
   "outputs": [
    {
     "name": "stdout",
     "output_type": "stream",
     "text": [
      "2.6.0\n",
      "True\n",
      "True\n"
     ]
    }
   ],
   "source": [
    "#mps : Metal Performance Shaders => Mac에서 cuda 대신 GPU 활용하는 방법\n",
    "\n",
    "print(torch.__version__)\n",
    "print(torch.backends.mps.is_built())\n",
    "print(torch.backends.mps.is_available())\n",
    "\n",
    "mps_device = torch.device(\"mps\" if torch.backends.mps.is_available() else \"cpu\")"
   ]
  },
  {
   "cell_type": "code",
   "execution_count": 82,
   "id": "e091580e-7250-4a9c-8d2d-54855620156d",
   "metadata": {},
   "outputs": [],
   "source": [
    "transform = transforms.ToTensor()\n",
    "\n",
    "# train data, test data 가져오기 : CIFAR-10 dataset\n",
    "\n",
    "trainset = torchvision.datasets.CIFAR10(\n",
    "    root='./data',\n",
    "    train=True,\n",
    "    download=True,\n",
    "    transform=transform\n",
    ")\n",
    "\n",
    "testset = torchvision.datasets.CIFAR10(\n",
    "    root='./data',\n",
    "    train=False,\n",
    "    download=True,\n",
    "    transform=transform\n",
    ")"
   ]
  },
  {
   "cell_type": "code",
   "execution_count": 52,
   "id": "5b74647c-f982-4278-ba86-d6b0958f414e",
   "metadata": {},
   "outputs": [
    {
     "name": "stdout",
     "output_type": "stream",
     "text": [
      "Dataset CIFAR10\n",
      "    Number of datapoints: 50000\n",
      "    Root location: ./data\n",
      "    Split: Train\n",
      "    StandardTransform\n",
      "Transform: ToTensor() Dataset CIFAR10\n",
      "    Number of datapoints: 10000\n",
      "    Root location: ./data\n",
      "    Split: Test\n",
      "    StandardTransform\n",
      "Transform: ToTensor()\n"
     ]
    }
   ],
   "source": [
    "print(trainset, testset)"
   ]
  },
  {
   "cell_type": "code",
   "execution_count": 54,
   "id": "720cf733-449a-41f1-b296-34c34ef0f1f3",
   "metadata": {},
   "outputs": [
    {
     "data": {
      "text/plain": [
       "torch.Size([3, 32, 32])"
      ]
     },
     "execution_count": 54,
     "metadata": {},
     "output_type": "execute_result"
    }
   ],
   "source": [
    "trainset[0][0].shape"
   ]
  },
  {
   "cell_type": "code",
   "execution_count": 56,
   "id": "7496d370-78b5-4d14-830c-7416fa407298",
   "metadata": {},
   "outputs": [
    {
     "data": {
      "text/plain": [
       "6"
      ]
     },
     "execution_count": 56,
     "metadata": {},
     "output_type": "execute_result"
    }
   ],
   "source": [
    "trainset[0][1]"
   ]
  },
  {
   "cell_type": "code",
   "execution_count": 66,
   "id": "b521f979-bb91-4dab-a3e1-774332c1dd53",
   "metadata": {},
   "outputs": [],
   "source": [
    "# 정확도를 측정하는 함수, 정확도 plot 그리는 함수\n",
    "\n",
    "def accuracy(model, dataloader):\n",
    "  cnt = 0\n",
    "  acc = 0\n",
    "\n",
    "  for data in dataloader:\n",
    "    inputs, labels = data\n",
    "    inputs, labels = inputs.to(mps_device), labels.to(mps_device)\n",
    "\n",
    "    preds = model(inputs)\n",
    "    preds = torch.argmax(preds, dim=-1)\n",
    "\n",
    "    cnt += labels.shape[0]\n",
    "    acc += (labels == preds).sum().item()\n",
    "\n",
    "  return acc / cnt\n",
    "\n",
    "def plot_acc(train_accs, test_accs, label1='train', label2='test'):\n",
    "  x = np.arange(len(train_accs))\n",
    "\n",
    "  plt.plot(x, train_accs, label=label1, marker='.')\n",
    "  plt.plot(x, test_accs, label=label2, marker='v')\n",
    "  plt.legend()\n",
    "  plt.show()"
   ]
  },
  {
   "cell_type": "code",
   "execution_count": 68,
   "id": "e5661099-65a6-4992-a7ec-a7577844ebb0",
   "metadata": {},
   "outputs": [],
   "source": [
    "# 심화 과제 batch size = 256\n",
    "batch_size = 256\n",
    "\n",
    "# trainset, testset에 대한 dataloader\n",
    "# trainset은 shuffle=True, testset은 shuffle=False\n",
    "trainloader = torch.utils.data.DataLoader(trainset, batch_size=batch_size, shuffle=True)\n",
    "testloader = torch.utils.data.DataLoader(testset, batch_size=batch_size, shuffle=False)"
   ]
  },
  {
   "cell_type": "code",
   "execution_count": 70,
   "id": "e33798dc-8e5f-4167-9ee0-1361ea61dd21",
   "metadata": {},
   "outputs": [],
   "source": [
    "from torch import nn\n",
    "\n",
    "# 모델1 정의 \n",
    "# 활성화 함수 - LeakyReLU, 최적화 알고리즘 - Adam vs SGD\n",
    "class Model1(nn.Module):\n",
    "  def __init__(self, input_dim, n_dim):\n",
    "    super().__init__()\n",
    "\n",
    "    self.layer1 = nn.Linear(input_dim, n_dim)\n",
    "    self.layer2 = nn.Linear(n_dim, n_dim)\n",
    "    self.layer3 = nn.Linear(n_dim, 10)\n",
    "    # CIFAR-10도 10개의 클래스를 분류됨.\n",
    "\n",
    "    self.act = nn.LeakyReLU()\n",
    "\n",
    "  def forward(self, x):\n",
    "    x = torch.flatten(x, start_dim=1)\n",
    "    x = self.act(self.layer1(x))\n",
    "    x = self.act(self.layer2(x))\n",
    "    x = self.act(self.layer3(x))\n",
    "\n",
    "    return x"
   ]
  },
  {
   "cell_type": "code",
   "execution_count": 104,
   "id": "55356836-7dcf-4a75-b31a-15cda3051c94",
   "metadata": {},
   "outputs": [
    {
     "name": "stdout",
     "output_type": "stream",
     "text": [
      "[Epoch 1] Loss: 444.0784\n",
      "[Epoch 2] Loss: 399.4407\n",
      "[Epoch 3] Loss: 373.1488\n",
      "[Epoch 4] Loss: 359.6215\n",
      "[Epoch 5] Loss: 347.4771\n",
      "[Epoch 6] Loss: 336.9570\n",
      "[Epoch 7] Loss: 329.2467\n",
      "[Epoch 8] Loss: 321.8158\n",
      "[Epoch 9] Loss: 314.5348\n",
      "[Epoch 10] Loss: 309.5111\n",
      "[Epoch 11] Loss: 304.3071\n",
      "[Epoch 12] Loss: 299.4943\n",
      "[Epoch 13] Loss: 295.6317\n",
      "[Epoch 14] Loss: 290.9050\n",
      "[Epoch 15] Loss: 287.2915\n",
      "[Epoch 16] Loss: 283.5460\n",
      "[Epoch 17] Loss: 280.0355\n",
      "[Epoch 18] Loss: 276.1308\n",
      "[Epoch 19] Loss: 273.0666\n",
      "[Epoch 20] Loss: 270.3677\n",
      "[Epoch 21] Loss: 267.5450\n",
      "[Epoch 22] Loss: 263.7296\n",
      "[Epoch 23] Loss: 259.4421\n",
      "[Epoch 24] Loss: 258.1308\n",
      "[Epoch 25] Loss: 254.8792\n",
      "[Epoch 26] Loss: 251.6459\n",
      "[Epoch 27] Loss: 252.7971\n",
      "[Epoch 28] Loss: 245.7280\n",
      "[Epoch 29] Loss: 245.8609\n",
      "[Epoch 30] Loss: 240.7876\n",
      "[Epoch 31] Loss: 240.4249\n",
      "[Epoch 32] Loss: 234.2471\n",
      "[Epoch 33] Loss: 232.0690\n",
      "[Epoch 34] Loss: 228.8540\n",
      "[Epoch 35] Loss: 228.9591\n",
      "[Epoch 36] Loss: 223.9665\n",
      "[Epoch 37] Loss: 221.0478\n",
      "[Epoch 38] Loss: 219.6362\n",
      "[Epoch 39] Loss: 214.8602\n",
      "[Epoch 40] Loss: 215.4850\n",
      "[Epoch 41] Loss: 209.9563\n",
      "[Epoch 42] Loss: 209.8803\n",
      "[Epoch 43] Loss: 206.1896\n",
      "[Epoch 44] Loss: 202.1546\n",
      "[Epoch 45] Loss: 205.8447\n",
      "[Epoch 46] Loss: 197.0811\n",
      "[Epoch 47] Loss: 197.4617\n",
      "[Epoch 48] Loss: 192.6411\n",
      "[Epoch 49] Loss: 189.6590\n",
      "[Epoch 50] Loss: 184.8076\n"
     ]
    }
   ],
   "source": [
    "from torch.optim import SGD, Adam\n",
    "\n",
    "# 조건 정의 (input 차원, learning rate, epoch 수, batch size)\n",
    "input_dim = 32 * 32 *3\n",
    "lr = 0.001\n",
    "n_epochs = 50\n",
    "batch_size = 256\n",
    "loss_fn = nn.CrossEntropyLoss()\n",
    "\n",
    "# 1-1 : activation_fn = leakyReLU, optimization_fn = Adam\n",
    "model = Model1(input_dim, 1024)\n",
    "model = model.to(mps_device)\n",
    "\n",
    "optimizer = Adam(model.parameters(), lr=lr)\n",
    "\n",
    "# 이전 commit에서 학습 방법을 비교하라고 해서 train 결과만 저장\n",
    "train_adam = []\n",
    "test_adam = []\n",
    "\n",
    "# 학습 부분\n",
    "for epoch in range(n_epochs):\n",
    "    total_loss = 0. # 0은 정수형, 0.은 실수형\n",
    "    model.train()\n",
    "    \n",
    "    for data in trainloader:\n",
    "        model.zero_grad() # 기울기 초기화 : 이전 commit에서 optimizer.zero_grad를 한 것이 잘못됨\n",
    "        inputs, labels = data\n",
    "        inputs, labels = inputs.to(mps_device), labels.to(mps_device)\n",
    "\n",
    "        preds = model(inputs)\n",
    "        loss = loss_fn(preds, labels)\n",
    "        loss.backward()\n",
    "        optimizer.step()\n",
    "\n",
    "        total_loss += loss.item()\n",
    "\n",
    "    model.eval()\n",
    "    train_adam.append(accuracy(model, trainloader))\n",
    "    test_adam.append(accuracy(model, testloader))\n",
    "\n",
    "    print(f'[Epoch {epoch+1}] Loss: {total_loss:.4f}')      "
   ]
  },
  {
   "cell_type": "code",
   "execution_count": 106,
   "id": "75182b1d-b9af-4f83-b86d-e2160aea0d3d",
   "metadata": {},
   "outputs": [
    {
     "name": "stdout",
     "output_type": "stream",
     "text": [
      "[Epoch 1] Loss: 450.7745\n",
      "[Epoch 2] Loss: 449.6396\n",
      "[Epoch 3] Loss: 448.6584\n",
      "[Epoch 4] Loss: 447.5848\n",
      "[Epoch 5] Loss: 446.5185\n",
      "[Epoch 6] Loss: 445.4295\n",
      "[Epoch 7] Loss: 444.3415\n",
      "[Epoch 8] Loss: 443.2301\n",
      "[Epoch 9] Loss: 442.0725\n",
      "[Epoch 10] Loss: 440.9281\n",
      "[Epoch 11] Loss: 439.7599\n",
      "[Epoch 12] Loss: 438.5846\n",
      "[Epoch 13] Loss: 437.4051\n",
      "[Epoch 14] Loss: 436.2305\n",
      "[Epoch 15] Loss: 435.0266\n",
      "[Epoch 16] Loss: 433.8475\n",
      "[Epoch 17] Loss: 432.4163\n",
      "[Epoch 18] Loss: 430.8945\n",
      "[Epoch 19] Loss: 429.4860\n",
      "[Epoch 20] Loss: 428.0315\n",
      "[Epoch 21] Loss: 426.6348\n",
      "[Epoch 22] Loss: 425.3258\n",
      "[Epoch 23] Loss: 424.0238\n",
      "[Epoch 24] Loss: 422.7919\n",
      "[Epoch 25] Loss: 421.5302\n",
      "[Epoch 26] Loss: 420.3903\n",
      "[Epoch 27] Loss: 419.1603\n",
      "[Epoch 28] Loss: 418.1016\n",
      "[Epoch 29] Loss: 417.0710\n",
      "[Epoch 30] Loss: 416.0391\n",
      "[Epoch 31] Loss: 415.1342\n",
      "[Epoch 32] Loss: 414.1774\n",
      "[Epoch 33] Loss: 413.2228\n",
      "[Epoch 34] Loss: 412.3644\n",
      "[Epoch 35] Loss: 411.5742\n",
      "[Epoch 36] Loss: 410.6974\n",
      "[Epoch 37] Loss: 409.9751\n",
      "[Epoch 38] Loss: 409.1152\n",
      "[Epoch 39] Loss: 408.4654\n",
      "[Epoch 40] Loss: 407.7942\n",
      "[Epoch 41] Loss: 407.0225\n",
      "[Epoch 42] Loss: 406.3919\n",
      "[Epoch 43] Loss: 405.7250\n",
      "[Epoch 44] Loss: 405.0291\n",
      "[Epoch 45] Loss: 404.5499\n",
      "[Epoch 46] Loss: 403.9387\n",
      "[Epoch 47] Loss: 403.3623\n",
      "[Epoch 48] Loss: 402.8119\n",
      "[Epoch 49] Loss: 402.2661\n",
      "[Epoch 50] Loss: 400.0048\n"
     ]
    }
   ],
   "source": [
    "# 1-2 : activation_fn = leakyReLU, optimization_fn = SGD\n",
    "model = Model1(input_dim, 1024)\n",
    "model = model.to(mps_device)\n",
    "\n",
    "optimizer = SGD(model.parameters(), lr=lr)\n",
    "\n",
    "train_sgd = []\n",
    "test_sgd = []\n",
    "\n",
    "for epoch in range(n_epochs):\n",
    "    total_loss = 0.\n",
    "    model.train()\n",
    "    \n",
    "    for data in trainloader: \n",
    "        model.zero_grad() # optimizer.zero_grad()는 가중치를 업데이트할 때, 이전 단계에서 계산된 기울기를 초기화\n",
    "        inputs, labels = data\n",
    "        inputs, labels = inputs.to(mps_device), labels.to(mps_device)\n",
    "\n",
    "        preds = model(inputs)\n",
    "        loss = loss_fn(preds, labels)\n",
    "        loss.backward()\n",
    "        optimizer.step()\n",
    "\n",
    "        total_loss += loss.item()\n",
    "\n",
    "    model.eval()\n",
    "    train_sgd.append(accuracy(model, trainloader))\n",
    "    test_sgd.append(accuracy(model, testloader))\n",
    "\n",
    "    print(f'[Epoch {epoch+1}] Loss: {total_loss:.4f}')"
   ]
  },
  {
   "cell_type": "code",
   "execution_count": 108,
   "id": "40f72565-1c56-4ee1-a0a8-702a79bbc15b",
   "metadata": {},
   "outputs": [
    {
     "data": {
      "image/png": "[encoded data removed]",
      "text/plain": [
       "<Figure size 640x480 with 1 Axes>"
      ]
     },
     "metadata": {},
     "output_type": "display_data"
    }
   ],
   "source": [
    "# Adam vs SGD plot\n",
    "plot_acc(train_adam, train_sgd, label1='Adam', label2='SGD')"
   ]
  },
  {
   "cell_type": "code",
   "execution_count": 110,
   "id": "8bd6b1ef-f45a-4533-9c06-39ca2d3090f3",
   "metadata": {},
   "outputs": [],
   "source": [
    "# 모델2 정의 \n",
    "# 활성화 함수가 Sigmoid인 함수\n",
    "\n",
    "class Model2(nn.Module):\n",
    "  def __init__(self, input_dim, n_dim):\n",
    "    super().__init__()\n",
    "\n",
    "    self.layer1 = nn.Linear(input_dim, n_dim)\n",
    "    self.layer2 = nn.Linear(n_dim, n_dim)\n",
    "    self.layer3 = nn.Linear(n_dim, 10) # CIFAR-10도 10개의 클래스를 분류됨.\n",
    "\n",
    "    self.act = nn.Sigmoid()\n",
    "\n",
    "  def forward(self, x):\n",
    "    x = torch.flatten(x, start_dim=1)\n",
    "    x = self.act(self.layer1(x))\n",
    "    x = self.act(self.layer2(x))\n",
    "    x = self.act(self.layer3(x))\n",
    "\n",
    "    return x"
   ]
  },
  {
   "cell_type": "code",
   "execution_count": 112,
   "id": "133eecc9-4c93-4635-bab4-65112ab36899",
   "metadata": {},
   "outputs": [
    {
     "name": "stdout",
     "output_type": "stream",
     "text": [
      "Epoch 1 | Loss: 410.0066010951996\n",
      "Epoch 2 | Loss: 392.792613863945\n",
      "Epoch 3 | Loss: 386.14186358451843\n",
      "Epoch 4 | Loss: 383.0258477926254\n",
      "Epoch 5 | Loss: 380.93307399749756\n",
      "Epoch 6 | Loss: 378.88577675819397\n",
      "Epoch 7 | Loss: 377.08891701698303\n",
      "Epoch 8 | Loss: 375.2056608200073\n",
      "Epoch 9 | Loss: 374.65802025794983\n",
      "Epoch 10 | Loss: 373.29251205921173\n",
      "Epoch 11 | Loss: 371.89250671863556\n",
      "Epoch 12 | Loss: 370.4140502214432\n",
      "Epoch 13 | Loss: 369.88353431224823\n",
      "Epoch 14 | Loss: 368.14142417907715\n",
      "Epoch 15 | Loss: 368.15977144241333\n",
      "Epoch 16 | Loss: 367.3411740064621\n",
      "Epoch 17 | Loss: 366.75631403923035\n",
      "Epoch 18 | Loss: 365.2132796049118\n",
      "Epoch 19 | Loss: 365.2082223892212\n",
      "Epoch 20 | Loss: 363.8473187685013\n",
      "Epoch 21 | Loss: 364.1440632343292\n",
      "Epoch 22 | Loss: 363.3236926794052\n",
      "Epoch 23 | Loss: 362.163498044014\n",
      "Epoch 24 | Loss: 361.89390194416046\n",
      "Epoch 25 | Loss: 361.44207870960236\n",
      "Epoch 26 | Loss: 361.1454402208328\n",
      "Epoch 27 | Loss: 359.6447949409485\n",
      "Epoch 28 | Loss: 359.10205006599426\n",
      "Epoch 29 | Loss: 358.9352924823761\n",
      "Epoch 30 | Loss: 358.83554697036743\n",
      "Epoch 31 | Loss: 358.07424199581146\n",
      "Epoch 32 | Loss: 357.4873229265213\n",
      "Epoch 33 | Loss: 356.7927656173706\n",
      "Epoch 34 | Loss: 356.72502624988556\n",
      "Epoch 35 | Loss: 356.8425408601761\n",
      "Epoch 36 | Loss: 355.34506595134735\n",
      "Epoch 37 | Loss: 355.4153871536255\n",
      "Epoch 38 | Loss: 355.72220730781555\n",
      "Epoch 39 | Loss: 354.90797114372253\n",
      "Epoch 40 | Loss: 354.84076952934265\n",
      "Epoch 41 | Loss: 354.2809044122696\n",
      "Epoch 42 | Loss: 353.93641436100006\n",
      "Epoch 43 | Loss: 353.9660989046097\n",
      "Epoch 44 | Loss: 353.32791125774384\n",
      "Epoch 45 | Loss: 352.77882862091064\n",
      "Epoch 46 | Loss: 352.6487489938736\n",
      "Epoch 47 | Loss: 352.2496521472931\n",
      "Epoch 48 | Loss: 351.7967599630356\n",
      "Epoch 49 | Loss: 351.8762936592102\n",
      "Epoch 50 | Loss: 350.6382247209549\n"
     ]
    }
   ],
   "source": [
    "model = Model2(input_dim, 1024)\n",
    "model = model.to(mps_device)\n",
    "\n",
    "optimizer = Adam(model.parameters(), lr=lr)\n",
    "\n",
    "train_sigmoid = []\n",
    "test_sigmoid = []\n",
    "\n",
    "for epoch in range(n_epochs):\n",
    "    total_loss = 0.\n",
    "    model.train()\n",
    "\n",
    "    for data in trainloader:\n",
    "        model.zero_grad()\n",
    "        inputs, labels = data\n",
    "        inputs, labels = inputs.to(mps_device), labels.to(mps_device)\n",
    "\n",
    "        preds = model(inputs)\n",
    "        loss = loss_fn(preds, labels)\n",
    "        loss.backward()\n",
    "        optimizer.step()\n",
    "\n",
    "        total_loss += loss.item()\n",
    "\n",
    "    model.eval()\n",
    "    train_sigmoid.append(accuracy(model, trainloader))\n",
    "    test_sigmoid.append(accuracy(model, testloader))\n",
    "\n",
    "    print(f'Epoch {epoch+1} | Loss: {total_loss}')"
   ]
  },
  {
   "cell_type": "code",
   "execution_count": 114,
   "id": "335bfb46-9f99-439c-b630-c8624b484573",
   "metadata": {},
   "outputs": [
    {
     "data": {
      "image/png": "[encoded data removed]",
      "text/plain": [
       "<Figure size 640x480 with 1 Axes>"
      ]
     },
     "metadata": {},
     "output_type": "display_data"
    }
   ],
   "source": [
    "# 활성화함수 LeakyReLU vs Sigmoid (optimizer는 Adam으로 동일)\n",
    "# LeakyReLU, Adam은 train_adam (Model 1-1)\n",
    "\n",
    "plot_acc(train_adam, train_sigmoid, 'LeakyReLU', 'Sigmoid')"
   ]
  },
  {
   "cell_type": "code",
   "execution_count": 120,
   "id": "281d735c-b393-4346-a411-9f606e0edda9",
   "metadata": {},
   "outputs": [],
   "source": [
    "# 모델3 정의 : dropout\n",
    "\n",
    "class Model3(nn.Module):\n",
    "  def __init__(self, input_dim, n_dim):\n",
    "    super().__init__()\n",
    "\n",
    "    self.layer1 = nn.Linear(input_dim, n_dim)\n",
    "    self.layer2 = nn.Linear(n_dim, n_dim)\n",
    "    self.layer3 = nn.Linear(n_dim, 10)\n",
    "\n",
    "    # 활성화 함수 : LeaklyReLU\n",
    "    self.act = nn.LeakyReLU()\n",
    "    self.dropout = nn.Dropout(p=0.1) # 이전 commmit에서 nn.Dropout(0.1)로 표기함\n",
    "\n",
    "  def forward(self, x):\n",
    "    x = torch.flatten(x, start_dim=1)\n",
    "    x = self.dropout(self.act(self.layer1(x)))\n",
    "    x = self.dropout(self.act(self.layer2(x)))\n",
    "    x = self.dropout(self.act(self.layer3(x)))\n",
    "\n",
    "    return x"
   ]
  },
  {
   "cell_type": "code",
   "execution_count": 124,
   "id": "afd31c5e-5cfa-4ed3-8f90-38091294addb",
   "metadata": {},
   "outputs": [
    {
     "name": "stdout",
     "output_type": "stream",
     "text": [
      "Epoch 1 | Loss: 446.70842957496643\n",
      "Epoch 2 | Loss: 421.22250485420227\n",
      "Epoch 3 | Loss: 412.2731521129608\n",
      "Epoch 4 | Loss: 408.0995123386383\n",
      "Epoch 5 | Loss: 395.44731080532074\n",
      "Epoch 6 | Loss: 389.5311527252197\n",
      "Epoch 7 | Loss: 386.26933693885803\n",
      "Epoch 8 | Loss: 382.85549223423004\n",
      "Epoch 9 | Loss: 378.10286343097687\n",
      "Epoch 10 | Loss: 374.1387372016907\n",
      "Epoch 11 | Loss: 370.0852988958359\n",
      "Epoch 12 | Loss: 365.35282814502716\n",
      "Epoch 13 | Loss: 362.5723465681076\n",
      "Epoch 14 | Loss: 361.8124680519104\n",
      "Epoch 15 | Loss: 358.8830473423004\n",
      "Epoch 16 | Loss: 355.86633932590485\n",
      "Epoch 17 | Loss: 352.8170573711395\n",
      "Epoch 18 | Loss: 350.82784163951874\n",
      "Epoch 19 | Loss: 348.8360333442688\n",
      "Epoch 20 | Loss: 345.944508433342\n",
      "Epoch 21 | Loss: 344.89486598968506\n",
      "Epoch 22 | Loss: 343.50141966342926\n",
      "Epoch 23 | Loss: 340.9025493860245\n",
      "Epoch 24 | Loss: 337.089590549469\n",
      "Epoch 25 | Loss: 337.54388976097107\n",
      "Epoch 26 | Loss: 337.2268351316452\n",
      "Epoch 27 | Loss: 333.85799074172974\n",
      "Epoch 28 | Loss: 332.44728446006775\n",
      "Epoch 29 | Loss: 330.0789861679077\n",
      "Epoch 30 | Loss: 329.631632566452\n",
      "Epoch 31 | Loss: 328.5641394853592\n",
      "Epoch 32 | Loss: 326.08772456645966\n",
      "Epoch 33 | Loss: 326.6506458520889\n",
      "Epoch 34 | Loss: 324.5885980129242\n",
      "Epoch 35 | Loss: 323.466251373291\n",
      "Epoch 36 | Loss: 320.3841162919998\n",
      "Epoch 37 | Loss: 320.49878323078156\n",
      "Epoch 38 | Loss: 319.6284555196762\n",
      "Epoch 39 | Loss: 318.1686897277832\n",
      "Epoch 40 | Loss: 316.74053132534027\n",
      "Epoch 41 | Loss: 316.50221717357635\n",
      "Epoch 42 | Loss: 315.53201591968536\n",
      "Epoch 43 | Loss: 313.37163949012756\n",
      "Epoch 44 | Loss: 313.3468494415283\n",
      "Epoch 45 | Loss: 311.6584806442261\n",
      "Epoch 46 | Loss: 311.8116124868393\n",
      "Epoch 47 | Loss: 309.37335419654846\n",
      "Epoch 48 | Loss: 309.58402025699615\n",
      "Epoch 49 | Loss: 308.91850197315216\n",
      "Epoch 50 | Loss: 307.03694772720337\n"
     ]
    }
   ],
   "source": [
    "model = Model3(input_dim, 1024)\n",
    "model = model.to(mps_device)\n",
    "\n",
    "optimizer = Adam(model.parameters(), lr=lr)\n",
    "\n",
    "train_dropout = []\n",
    "test_dropout = []\n",
    "\n",
    "for epoch in range(n_epochs):\n",
    "    total_loss = 0.\n",
    "    model.train()\n",
    "\n",
    "    for data in trainloader:\n",
    "        model.zero_grad()\n",
    "        inputs, labels = data\n",
    "        inputs, labels = inputs.to(mps_device), labels.to(mps_device)\n",
    "\n",
    "        preds = model(inputs)\n",
    "        loss = loss_fn(preds, labels)\n",
    "        loss.backward()\n",
    "        optimizer.step()\n",
    "\n",
    "        total_loss += loss.item()\n",
    "\n",
    "    with torch.no_grad():\n",
    "        model.eval()\n",
    "        train_dropout.append(accuracy(model, trainloader))\n",
    "        test_dropout.append(accuracy(model, testloader))\n",
    "\n",
    "    print(f'Epoch {epoch+1} | Loss: {total_loss}')"
   ]
  },
  {
   "cell_type": "code",
   "execution_count": 126,
   "id": "d861db9d-f275-4062-8e15-b907a49b90ea",
   "metadata": {},
   "outputs": [
    {
     "data": {
      "image/png": "[encoded data removed]",
      "text/plain": [
       "<Figure size 640x480 with 1 Axes>"
      ]
     },
     "metadata": {},
     "output_type": "display_data"
    }
   ],
   "source": [
    " plot_acc(train_adam, test_adam, 'train', 'test')"
   ]
  },
  {
   "cell_type": "code",
   "execution_count": 128,
   "id": "98f1c692-dc05-4d1d-b69b-644d9d712e65",
   "metadata": {},
   "outputs": [
    {
     "data": {
      "image/png": "[encoded data removed]",
      "text/plain": [
       "<Figure size 640x480 with 1 Axes>"
      ]
     },
     "metadata": {},
     "output_type": "display_data"
    }
   ],
   "source": [
    "plot_acc(train_dropout, test_dropout)"
   ]
  },
  {
   "cell_type": "code",
   "execution_count": null,
   "id": "70964ebe-5f73-44b3-8a50-a3617eab6335",
   "metadata": {},
   "outputs": [],
   "source": []
  }
 ],
 "metadata": {
  "kernelspec": {
   "display_name": "Python (hhplus_week1)",
   "language": "python",
   "name": "hhplus_week1"
  },
  "language_info": {
   "codemirror_mode": {
    "name": "ipython",
    "version": 3
   },
   "file_extension": ".py",
   "mimetype": "text/x-python",
   "name": "python",
   "nbconvert_exporter": "python",
   "pygments_lexer": "ipython3",
   "version": "3.13.2"
  }
 },
 "nbformat": 4,
 "nbformat_minor": 5
}
